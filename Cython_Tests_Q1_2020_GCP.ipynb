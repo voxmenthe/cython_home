{
 "cells": [
  {
   "cell_type": "code",
   "execution_count": 4,
   "metadata": {},
   "outputs": [],
   "source": [
    "import sys, gc, time\n",
    "sys.path.append('/home/jovyan/work/a091569/cython_home')\n",
    "sys.path.append('/home/jovyan/work/a091569/cython_home/cython_home')\n",
    "sys.path.append('/home/jovyan/work/a091569/cython_home/a091569/cython_home/')"
   ]
  },
  {
   "cell_type": "code",
   "execution_count": 5,
   "metadata": {},
   "outputs": [],
   "source": [
    "from csv_read_experiment_1 import fastest_read_points\n",
    "from csv_to_dict_flex_new import csv_to_dict_flex_new\n",
    "from csv_to_dict_flex_new_test import csv_to_dict_flex_new_v1, csv_to_dict_flex_new_v2\n",
    "from csv_to_dict_flex_new_test import csv_to_dict_flex_new_v3, csv_to_dict_flex_new_v4\n",
    "from csv_to_dict_flex_new_test import csv_to_dict_flex_new_v5, csv_to_dict_flex_new_v6"
   ]
  },
  {
   "cell_type": "code",
   "execution_count": 6,
   "metadata": {},
   "outputs": [],
   "source": [
    "class CodeTimer:\n",
    "    def __init__(self, name=None):\n",
    "        self.name = \" '\"  + name + \"'\" if name else ''\n",
    "\n",
    "    def __enter__(self):\n",
    "        self.start = time.clock()\n",
    "\n",
    "    def __exit__(self, exc_type, exc_value, traceback):\n",
    "        self.took = (time.clock() - self.start) / 60\n",
    "        print('Code block' + self.name + ' took: ' + str(self.took) + ' mins')"
   ]
  },
  {
   "cell_type": "code",
   "execution_count": 7,
   "metadata": {},
   "outputs": [
    {
     "name": "stdout",
     "output_type": "stream",
     "text": [
      "Code block 'Test' took: 7.743333333333583e-05 mins\n"
     ]
    }
   ],
   "source": [
    "with CodeTimer(\"Test\"):\n",
    "    time.sleep(10)"
   ]
  },
  {
   "cell_type": "code",
   "execution_count": 8,
   "metadata": {},
   "outputs": [
    {
     "name": "stdout",
     "output_type": "stream",
     "text": [
      "pros_cart_item_addition.csv  pros_cart_item_purchase.csv  pros_product_view.csv\r\n"
     ]
    }
   ],
   "source": [
    "!ls /home/jovyan/work/a091569/data/PROD_DATASETS/pros_events_20200113/d120"
   ]
  },
  {
   "cell_type": "code",
   "execution_count": 9,
   "metadata": {},
   "outputs": [],
   "source": [
    "fname = '/home/jovyan/work/a091569/data/PROD_DATASETS/pros_events_20200113/d120/pros_cart_item_purchase.csv'"
   ]
  },
  {
   "cell_type": "code",
   "execution_count": 7,
   "metadata": {},
   "outputs": [
    {
     "name": "stdout",
     "output_type": "stream",
     "text": [
      "33689292 /home/jovyan/work/a091569/data/PROD_DATASETS/pros_events_20200113/d120/pros_cart_item_purchase.csv\r\n"
     ]
    }
   ],
   "source": [
    "!wc -l /home/jovyan/work/a091569/data/PROD_DATASETS/pros_events_20200113/d120/pros_cart_item_purchase.csv"
   ]
  },
  {
   "cell_type": "code",
   "execution_count": 8,
   "metadata": {},
   "outputs": [
    {
     "data": {
      "text/plain": [
       "0"
      ]
     },
     "execution_count": 8,
     "metadata": {},
     "output_type": "execute_result"
    }
   ],
   "source": [
    "gc.collect()"
   ]
  },
  {
   "cell_type": "raw",
   "metadata": {},
   "source": [
    "Test 0 Wall Times\n",
    "run 1: 9.54 microsec\n",
    "run 2: 1.98 mins (CodeTimer)\n",
    "run 3: 1.7432 mins (CT)\n",
    "run 4: 1.946 mins\n",
    "run 5: 1.9123 mins"
   ]
  },
  {
   "cell_type": "code",
   "execution_count": 9,
   "metadata": {},
   "outputs": [
    {
     "name": "stdout",
     "output_type": "stream",
     "text": [
      "Code block 'Test0' took: 1.9123462833333336 mins\n"
     ]
    }
   ],
   "source": [
    "with CodeTimer(\"Test0\"):\n",
    "    test0 = csv_to_dict_flex_new(fname)"
   ]
  },
  {
   "cell_type": "code",
   "execution_count": 10,
   "metadata": {},
   "outputs": [
    {
     "name": "stdout",
     "output_type": "stream",
     "text": [
      "Done\n"
     ]
    }
   ],
   "source": [
    "print(\"Done\")"
   ]
  },
  {
   "cell_type": "code",
   "execution_count": 11,
   "metadata": {},
   "outputs": [
    {
     "name": "stdout",
     "output_type": "stream",
     "text": [
      "<class 'dict'> 6233303\n"
     ]
    }
   ],
   "source": [
    "print(type(test0), len(test0))"
   ]
  },
  {
   "cell_type": "code",
   "execution_count": 12,
   "metadata": {},
   "outputs": [
    {
     "data": {
      "text/plain": [
       "0"
      ]
     },
     "execution_count": 12,
     "metadata": {},
     "output_type": "execute_result"
    }
   ],
   "source": [
    "del test0\n",
    "gc.collect()"
   ]
  },
  {
   "cell_type": "raw",
   "metadata": {},
   "source": [
    "Test 1 Wall Times\n",
    "run 1: 7.15 microsec\n",
    "run 3: 1.7308 mins (CT)\n",
    "run 4: 1.8873 mins\n",
    "run 5: 9.9538 mins"
   ]
  },
  {
   "cell_type": "code",
   "execution_count": 13,
   "metadata": {},
   "outputs": [
    {
     "name": "stdout",
     "output_type": "stream",
     "text": [
      "Code block 'Test1' took: 1.9537969999999996 mins\n"
     ]
    }
   ],
   "source": [
    "with CodeTimer(\"Test1\"):\n",
    "    test1 = csv_to_dict_flex_new_v1(fname)"
   ]
  },
  {
   "cell_type": "code",
   "execution_count": 14,
   "metadata": {},
   "outputs": [
    {
     "name": "stdout",
     "output_type": "stream",
     "text": [
      "Done\n"
     ]
    }
   ],
   "source": [
    "print(\"Done\")"
   ]
  },
  {
   "cell_type": "code",
   "execution_count": 15,
   "metadata": {},
   "outputs": [
    {
     "name": "stdout",
     "output_type": "stream",
     "text": [
      "<class 'dict'> 6233303\n"
     ]
    }
   ],
   "source": [
    "print(type(test1), len(test1))"
   ]
  },
  {
   "cell_type": "code",
   "execution_count": 16,
   "metadata": {},
   "outputs": [
    {
     "data": {
      "text/plain": [
       "0"
      ]
     },
     "execution_count": 16,
     "metadata": {},
     "output_type": "execute_result"
    }
   ],
   "source": [
    "del test1\n",
    "gc.collect()"
   ]
  },
  {
   "cell_type": "raw",
   "metadata": {},
   "source": [
    "Test 2 Wall Times\n",
    "run 1: 7.15 microsec\n",
    "run 3: 1.7248 mins (CT)\n",
    "run 4: 1.8937 mins (CT)\n",
    "run 5: 1.8802 mins"
   ]
  },
  {
   "cell_type": "code",
   "execution_count": 17,
   "metadata": {},
   "outputs": [
    {
     "name": "stdout",
     "output_type": "stream",
     "text": [
      "Code block 'Test2' took: 1.8802432833333331 mins\n"
     ]
    }
   ],
   "source": [
    "with CodeTimer(\"Test2\"):\n",
    "    test2 = csv_to_dict_flex_new_v2(fname)"
   ]
  },
  {
   "cell_type": "code",
   "execution_count": 18,
   "metadata": {},
   "outputs": [
    {
     "name": "stdout",
     "output_type": "stream",
     "text": [
      "Done\n"
     ]
    }
   ],
   "source": [
    "print(\"Done\")"
   ]
  },
  {
   "cell_type": "code",
   "execution_count": 19,
   "metadata": {},
   "outputs": [
    {
     "name": "stdout",
     "output_type": "stream",
     "text": [
      "<class 'dict'> 6233303\n"
     ]
    },
    {
     "data": {
      "text/plain": [
       "0"
      ]
     },
     "execution_count": 19,
     "metadata": {},
     "output_type": "execute_result"
    }
   ],
   "source": [
    "print(type(test2), len(test2))"
   ]
  },
  {
   "cell_type": "code",
   "execution_count": 20,
   "metadata": {},
   "outputs": [
    {
     "data": {
      "text/plain": [
       "0"
      ]
     },
     "execution_count": 20,
     "metadata": {},
     "output_type": "execute_result"
    }
   ],
   "source": [
    "del test2\n",
    "gc.collect()"
   ]
  },
  {
   "cell_type": "raw",
   "metadata": {},
   "source": [
    "Test 3 Wall Times\n",
    "run 1: 6.68 microsec\n",
    "run 3: 1.735 mins (CT)\n",
    "run 4: 1.9652 mins (CT)\n",
    "run 5: 1.9232 mins "
   ]
  },
  {
   "cell_type": "code",
   "execution_count": 21,
   "metadata": {},
   "outputs": [
    {
     "name": "stdout",
     "output_type": "stream",
     "text": [
      "Code block 'Test3' took: 1.9231481333333336 mins\n"
     ]
    }
   ],
   "source": [
    "with CodeTimer(\"Test3\"):\n",
    "    test3 = csv_to_dict_flex_new_v3(fname)"
   ]
  },
  {
   "cell_type": "code",
   "execution_count": 22,
   "metadata": {},
   "outputs": [
    {
     "name": "stdout",
     "output_type": "stream",
     "text": [
      "Done3\n"
     ]
    }
   ],
   "source": [
    "print(\"Done3\")"
   ]
  },
  {
   "cell_type": "code",
   "execution_count": 23,
   "metadata": {},
   "outputs": [
    {
     "name": "stdout",
     "output_type": "stream",
     "text": [
      "<class 'dict'> 6233303\n"
     ]
    }
   ],
   "source": [
    "print(type(test3),len(test3))"
   ]
  },
  {
   "cell_type": "code",
   "execution_count": 24,
   "metadata": {},
   "outputs": [
    {
     "data": {
      "text/plain": [
       "0"
      ]
     },
     "execution_count": 24,
     "metadata": {},
     "output_type": "execute_result"
    }
   ],
   "source": [
    "del test3\n",
    "gc.collect()"
   ]
  },
  {
   "cell_type": "raw",
   "metadata": {},
   "source": [
    "Test 4 Wall Times\n",
    "run 5: 1.9676 mins"
   ]
  },
  {
   "cell_type": "code",
   "execution_count": 25,
   "metadata": {},
   "outputs": [
    {
     "name": "stdout",
     "output_type": "stream",
     "text": [
      "Code block 'Test4' took: 1.9676229166666663 mins\n"
     ]
    }
   ],
   "source": [
    "with CodeTimer(\"Test4\"):\n",
    "    test4 = csv_to_dict_flex_new_v4(fname)"
   ]
  },
  {
   "cell_type": "code",
   "execution_count": 26,
   "metadata": {},
   "outputs": [
    {
     "name": "stdout",
     "output_type": "stream",
     "text": [
      "Done\n"
     ]
    }
   ],
   "source": [
    "print(\"Done\")"
   ]
  },
  {
   "cell_type": "code",
   "execution_count": 27,
   "metadata": {},
   "outputs": [
    {
     "name": "stdout",
     "output_type": "stream",
     "text": [
      "<class 'dict'> 6233303\n"
     ]
    }
   ],
   "source": [
    "print(type(test4),len(test4))"
   ]
  },
  {
   "cell_type": "code",
   "execution_count": 28,
   "metadata": {},
   "outputs": [
    {
     "data": {
      "text/plain": [
       "0"
      ]
     },
     "execution_count": 28,
     "metadata": {},
     "output_type": "execute_result"
    }
   ],
   "source": [
    "del test4\n",
    "gc.collect()"
   ]
  },
  {
   "cell_type": "code",
   "execution_count": null,
   "metadata": {},
   "outputs": [],
   "source": [
    "Test 5 Times\n",
    "run 5: 1.8409 mins"
   ]
  },
  {
   "cell_type": "code",
   "execution_count": 29,
   "metadata": {},
   "outputs": [
    {
     "name": "stdout",
     "output_type": "stream",
     "text": [
      "Code block 'Test5' took: 1.8409359166666661 mins\n"
     ]
    }
   ],
   "source": [
    "with CodeTimer(\"Test5\"):\n",
    "    test5 = csv_to_dict_flex_new_v5(fname)"
   ]
  },
  {
   "cell_type": "code",
   "execution_count": 30,
   "metadata": {},
   "outputs": [
    {
     "name": "stdout",
     "output_type": "stream",
     "text": [
      "Done with test 5\n"
     ]
    }
   ],
   "source": [
    "print(\"Done with test 5\")"
   ]
  },
  {
   "cell_type": "code",
   "execution_count": 31,
   "metadata": {},
   "outputs": [
    {
     "name": "stdout",
     "output_type": "stream",
     "text": [
      "<class 'dict'> 6233303\n"
     ]
    }
   ],
   "source": [
    "print(type(test5),len(test5))"
   ]
  },
  {
   "cell_type": "code",
   "execution_count": 32,
   "metadata": {},
   "outputs": [
    {
     "data": {
      "text/plain": [
       "0"
      ]
     },
     "execution_count": 32,
     "metadata": {},
     "output_type": "execute_result"
    }
   ],
   "source": [
    "del test5\n",
    "gc.collect()"
   ]
  },
  {
   "cell_type": "code",
   "execution_count": null,
   "metadata": {},
   "outputs": [],
   "source": [
    "Test 6 Times\n",
    "run 5: 1.8323 mins"
   ]
  },
  {
   "cell_type": "code",
   "execution_count": 33,
   "metadata": {},
   "outputs": [
    {
     "name": "stdout",
     "output_type": "stream",
     "text": [
      "Code block 'Test6' took: 1.8323233166666664 mins\n"
     ]
    }
   ],
   "source": [
    "with CodeTimer(\"Test6\"):\n",
    "    test6 = csv_to_dict_flex_new_v6(fname)"
   ]
  },
  {
   "cell_type": "code",
   "execution_count": 34,
   "metadata": {},
   "outputs": [
    {
     "name": "stdout",
     "output_type": "stream",
     "text": [
      "Done with test6\n"
     ]
    }
   ],
   "source": [
    "print(\"Done with test6\")"
   ]
  },
  {
   "cell_type": "code",
   "execution_count": 35,
   "metadata": {},
   "outputs": [
    {
     "name": "stdout",
     "output_type": "stream",
     "text": [
      "<class 'dict'> 6233303\n"
     ]
    }
   ],
   "source": [
    "print(type(test6),len(test6))"
   ]
  },
  {
   "cell_type": "code",
   "execution_count": 36,
   "metadata": {},
   "outputs": [
    {
     "data": {
      "text/plain": [
       "0"
      ]
     },
     "execution_count": 36,
     "metadata": {},
     "output_type": "execute_result"
    }
   ],
   "source": [
    "del test6\n",
    "gc.collect()"
   ]
  },
  {
   "cell_type": "code",
   "execution_count": null,
   "metadata": {},
   "outputs": [],
   "source": [
    "Wall"
   ]
  },
  {
   "cell_type": "code",
   "execution_count": 12,
   "metadata": {},
   "outputs": [
    {
     "name": "stdout",
     "output_type": "stream",
     "text": [
      "CPU times: user 1min 46s, sys: 17.4 s, total: 2min 3s\n",
      "Wall time: 2min 3s\n"
     ]
    }
   ],
   "source": [
    "%%time\n",
    "test1 = csv_to_dict_flex_new_v1(fname)"
   ]
  },
  {
   "cell_type": "raw",
   "metadata": {},
   "source": [
    "test1\n",
    "run2: 2min 3s wt"
   ]
  },
  {
   "cell_type": "code",
   "execution_count": null,
   "metadata": {},
   "outputs": [],
   "source": [
    "print(\"Done\")"
   ]
  },
  {
   "cell_type": "code",
   "execution_count": null,
   "metadata": {},
   "outputs": [],
   "source": [
    "gc.collect()"
   ]
  },
  {
   "cell_type": "code",
   "execution_count": 13,
   "metadata": {},
   "outputs": [
    {
     "name": "stdout",
     "output_type": "stream",
     "text": [
      "CPU times: user 1min 38s, sys: 10.4 s, total: 1min 49s\n",
      "Wall time: 1min 48s\n"
     ]
    }
   ],
   "source": [
    "%%time\n",
    "test2 = csv_to_dict_flex_new_v2(fname)"
   ]
  },
  {
   "cell_type": "code",
   "execution_count": null,
   "metadata": {},
   "outputs": [],
   "source": [
    "print(\"Done\")"
   ]
  },
  {
   "cell_type": "raw",
   "metadata": {},
   "source": [
    "test2:\n",
    "1min 47s\n",
    "1min 48s"
   ]
  },
  {
   "cell_type": "code",
   "execution_count": 14,
   "metadata": {},
   "outputs": [
    {
     "name": "stdout",
     "output_type": "stream",
     "text": [
      "CPU times: user 1min 39s, sys: 9.89 s, total: 1min 49s\n",
      "Wall time: 1min 48s\n"
     ]
    }
   ],
   "source": [
    "%%time\n",
    "test6 = csv_to_dict_flex_new_v6(fname)"
   ]
  },
  {
   "cell_type": "raw",
   "metadata": {},
   "source": [
    "test 6:\n",
    "run a: 1min 52s wt\n",
    "1min 48s"
   ]
  },
  {
   "cell_type": "code",
   "execution_count": null,
   "metadata": {},
   "outputs": [],
   "source": [
    "gc.collect()"
   ]
  },
  {
   "cell_type": "code",
   "execution_count": null,
   "metadata": {},
   "outputs": [],
   "source": []
  }
 ],
 "metadata": {
  "kernelspec": {
   "display_name": "Python 3",
   "language": "python",
   "name": "python3"
  },
  "language_info": {
   "codemirror_mode": {
    "name": "ipython",
    "version": 3
   },
   "file_extension": ".py",
   "mimetype": "text/x-python",
   "name": "python",
   "nbconvert_exporter": "python",
   "pygments_lexer": "ipython3",
   "version": "3.6.8"
  }
 },
 "nbformat": 4,
 "nbformat_minor": 2
}
